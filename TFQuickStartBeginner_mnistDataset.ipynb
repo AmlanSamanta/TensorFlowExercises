{
  "nbformat": 4,
  "nbformat_minor": 0,
  "metadata": {
    "colab": {
      "provenance": [],
      "authorship_tag": "ABX9TyM8BiqxvfiDIkfKM2pCcEsf",
      "include_colab_link": true
    },
    "kernelspec": {
      "name": "python3",
      "display_name": "Python 3"
    },
    "language_info": {
      "name": "python"
    },
    "gpuClass": "standard"
  },
  "cells": [
    {
      "cell_type": "markdown",
      "metadata": {
        "id": "view-in-github",
        "colab_type": "text"
      },
      "source": [
        "<a href=\"https://colab.research.google.com/github/AmlanSamanta/TensorFlowExercises/blob/main/TFQuickStartBeginner_mnistDataset.ipynb\" target=\"_parent\"><img src=\"https://colab.research.google.com/assets/colab-badge.svg\" alt=\"Open In Colab\"/></a>"
      ]
    },
    {
      "cell_type": "code",
      "execution_count": 1,
      "metadata": {
        "id": "lov4W7SoDZ5X",
        "colab": {
          "base_uri": "https://localhost:8080/"
        },
        "outputId": "7355e3b8-2c58-4da3-fcc5-891d52938cd9"
      },
      "outputs": [
        {
          "output_type": "stream",
          "name": "stdout",
          "text": [
            "TensorFlow version: 2.9.2\n"
          ]
        }
      ],
      "source": [
        "import tensorflow as tf\n",
        "print(\"TensorFlow version:\", tf.__version__)"
      ]
    },
    {
      "cell_type": "code",
      "source": [
        "mnist = tf.keras.datasets.mnist\n",
        "(x_train,y_train), (x_test, y_test) = mnist.load_data()\n",
        "x_train,x_test = x_train / 255.0, x_test / 255.0"
      ],
      "metadata": {
        "id": "veEKQm99EOe5",
        "colab": {
          "base_uri": "https://localhost:8080/"
        },
        "outputId": "b5505343-2207-48de-d8c2-46385444a6d8"
      },
      "execution_count": 2,
      "outputs": [
        {
          "output_type": "stream",
          "name": "stdout",
          "text": [
            "Downloading data from https://storage.googleapis.com/tensorflow/tf-keras-datasets/mnist.npz\n",
            "11490434/11490434 [==============================] - 0s 0us/step\n"
          ]
        }
      ]
    },
    {
      "cell_type": "code",
      "source": [
        "model = tf.keras.models.Sequential([\n",
        "    tf.keras.layers.Flatten(input_shape=(28,28)),\n",
        "    tf.keras.layers.Dense(128,activation='relu'),\n",
        "    tf.keras.layers.Dropout(0.2),\n",
        "    tf.keras.layers.Dense(10)\n",
        "])"
      ],
      "metadata": {
        "id": "FoD_-nz8EOko"
      },
      "execution_count": 3,
      "outputs": []
    },
    {
      "cell_type": "code",
      "source": [
        "loss_fn = tf.keras.losses.SparseCategoricalCrossentropy(from_logits=True)"
      ],
      "metadata": {
        "id": "9gTOnWK8EOqj"
      },
      "execution_count": 4,
      "outputs": []
    },
    {
      "cell_type": "code",
      "source": [
        "model.compile(optimizer='adam',\n",
        "              loss=loss_fn,\n",
        "              metrics=['accuracy'])"
      ],
      "metadata": {
        "id": "tz5fpvJqEOvC"
      },
      "execution_count": 5,
      "outputs": []
    },
    {
      "cell_type": "code",
      "source": [
        "model.fit(x_train, y_train, epochs=5)"
      ],
      "metadata": {
        "colab": {
          "base_uri": "https://localhost:8080/"
        },
        "id": "sdJY1M7-GSqg",
        "outputId": "826e8a0e-1254-4679-bcdc-a3b3a24496ea"
      },
      "execution_count": 6,
      "outputs": [
        {
          "output_type": "stream",
          "name": "stdout",
          "text": [
            "Epoch 1/5\n",
            "1875/1875 [==============================] - 7s 3ms/step - loss: 0.2956 - accuracy: 0.9144\n",
            "Epoch 2/5\n",
            "1875/1875 [==============================] - 6s 3ms/step - loss: 0.1424 - accuracy: 0.9574\n",
            "Epoch 3/5\n",
            "1875/1875 [==============================] - 7s 4ms/step - loss: 0.1078 - accuracy: 0.9681\n",
            "Epoch 4/5\n",
            "1875/1875 [==============================] - 5s 3ms/step - loss: 0.0882 - accuracy: 0.9728\n",
            "Epoch 5/5\n",
            "1875/1875 [==============================] - 6s 3ms/step - loss: 0.0752 - accuracy: 0.9766\n"
          ]
        },
        {
          "output_type": "execute_result",
          "data": {
            "text/plain": [
              "<keras.callbacks.History at 0x7feb52352430>"
            ]
          },
          "metadata": {},
          "execution_count": 6
        }
      ]
    },
    {
      "cell_type": "code",
      "source": [
        "predictions = model(x_train[:1]).numpy()\n",
        "predictions"
      ],
      "metadata": {
        "colab": {
          "base_uri": "https://localhost:8080/"
        },
        "id": "JaHHQqWKHJTy",
        "outputId": "030c6241-d0f2-4a03-82d5-cb61d2e3bf91"
      },
      "execution_count": 7,
      "outputs": [
        {
          "output_type": "execute_result",
          "data": {
            "text/plain": [
              "array([[-10.138228 ,  -4.1748657,  -4.5613647,   7.5495973, -24.278757 ,\n",
              "         11.047575 , -11.547589 ,  -6.4285192,  -9.310298 ,  -5.103656 ]],\n",
              "      dtype=float32)"
            ]
          },
          "metadata": {},
          "execution_count": 7
        }
      ]
    },
    {
      "cell_type": "code",
      "source": [
        "tf.nn.softmax(predictions).numpy()"
      ],
      "metadata": {
        "colab": {
          "base_uri": "https://localhost:8080/"
        },
        "id": "L4sHyiqMHU8i",
        "outputId": "924d4507-74ce-4d9a-a224-926fd88801dc"
      },
      "execution_count": 9,
      "outputs": [
        {
          "output_type": "execute_result",
          "data": {
            "text/plain": [
              "array([[6.1119032e-10, 2.3770131e-07, 1.6150167e-07, 2.9369811e-02,\n",
              "        4.4159329e-16, 9.7062969e-01, 1.4931313e-10, 2.4962191e-08,\n",
              "        1.3987564e-09, 9.3899558e-08]], dtype=float32)"
            ]
          },
          "metadata": {},
          "execution_count": 9
        }
      ]
    },
    {
      "cell_type": "code",
      "source": [
        "model.evaluate(x_test,  y_test, verbose=2)"
      ],
      "metadata": {
        "id": "LxkTA8_AEO0A",
        "colab": {
          "base_uri": "https://localhost:8080/"
        },
        "outputId": "23fc1d6e-4954-434c-b7cf-f6d3b8c25d16"
      },
      "execution_count": 8,
      "outputs": [
        {
          "output_type": "stream",
          "name": "stdout",
          "text": [
            "313/313 - 1s - loss: 0.0752 - accuracy: 0.9765 - 584ms/epoch - 2ms/step\n"
          ]
        },
        {
          "output_type": "execute_result",
          "data": {
            "text/plain": [
              "[0.07516369968652725, 0.9764999747276306]"
            ]
          },
          "metadata": {},
          "execution_count": 8
        }
      ]
    },
    {
      "cell_type": "code",
      "source": [
        "probability_model = tf.keras.Sequential([\n",
        "  model,\n",
        "  tf.keras.layers.Softmax()\n",
        "])\n"
      ],
      "metadata": {
        "id": "Pjd_aiWnEO4q"
      },
      "execution_count": 10,
      "outputs": []
    },
    {
      "cell_type": "code",
      "source": [
        "probability_model(x_test[:5])"
      ],
      "metadata": {
        "id": "wXxWTYszEPAh",
        "colab": {
          "base_uri": "https://localhost:8080/"
        },
        "outputId": "68a2dc2c-7ab5-400a-83e2-f017412ce538"
      },
      "execution_count": 11,
      "outputs": [
        {
          "output_type": "execute_result",
          "data": {
            "text/plain": [
              "<tf.Tensor: shape=(5, 10), dtype=float32, numpy=\n",
              "array([[7.86168464e-09, 5.91190741e-09, 2.63671586e-06, 3.09545831e-05,\n",
              "        2.81792090e-10, 1.88249860e-08, 1.87509391e-13, 9.99947906e-01,\n",
              "        9.25072641e-08, 1.83487118e-05],\n",
              "       [8.06668936e-07, 1.00364494e-04, 9.99849439e-01, 4.65793746e-05,\n",
              "        1.03785660e-14, 2.26085581e-06, 3.98099829e-08, 7.51308792e-13,\n",
              "        4.20203207e-07, 6.76149837e-13],\n",
              "       [7.34433527e-08, 9.98738706e-01, 6.79806108e-05, 3.46248544e-06,\n",
              "        3.38860045e-05, 1.73509807e-06, 2.08376650e-06, 1.10080594e-03,\n",
              "        5.07775039e-05, 4.60666342e-07],\n",
              "       [9.99174654e-01, 2.69482925e-08, 2.81661378e-05, 1.50416440e-06,\n",
              "        1.71052022e-06, 1.84337114e-06, 6.47802954e-05, 7.26861239e-04,\n",
              "        2.89039931e-10, 5.26554572e-07],\n",
              "       [3.10118448e-05, 3.87745613e-09, 1.10710671e-05, 1.54761295e-07,\n",
              "        9.96813357e-01, 3.62368624e-08, 2.31101549e-05, 4.75010456e-04,\n",
              "        1.28016416e-06, 2.64487672e-03]], dtype=float32)>"
            ]
          },
          "metadata": {},
          "execution_count": 11
        }
      ]
    },
    {
      "cell_type": "code",
      "source": [
        "probability_model(x_test[:10])"
      ],
      "metadata": {
        "colab": {
          "base_uri": "https://localhost:8080/"
        },
        "id": "PzSjInx-HukG",
        "outputId": "d0046a0a-1667-466b-fdc4-0de98a331bb6"
      },
      "execution_count": 12,
      "outputs": [
        {
          "output_type": "execute_result",
          "data": {
            "text/plain": [
              "<tf.Tensor: shape=(10, 10), dtype=float32, numpy=\n",
              "array([[7.86168375e-09, 5.91190741e-09, 2.63671564e-06, 3.09545794e-05,\n",
              "        2.81792062e-10, 1.88249842e-08, 1.87509378e-13, 9.99947846e-01,\n",
              "        9.25072570e-08, 1.83487118e-05],\n",
              "       [8.06669050e-07, 1.00364501e-04, 9.99849558e-01, 4.65793819e-05,\n",
              "        1.03785668e-14, 2.26085604e-06, 3.98099864e-08, 7.51308900e-13,\n",
              "        4.20203236e-07, 6.76149891e-13],\n",
              "       [7.34433527e-08, 9.98738706e-01, 6.79806108e-05, 3.46248544e-06,\n",
              "        3.38860045e-05, 1.73509807e-06, 2.08376650e-06, 1.10080594e-03,\n",
              "        5.07775039e-05, 4.60666342e-07],\n",
              "       [9.99174654e-01, 2.69482925e-08, 2.81661378e-05, 1.50416440e-06,\n",
              "        1.71052022e-06, 1.84337114e-06, 6.47802954e-05, 7.26861239e-04,\n",
              "        2.89039931e-10, 5.26554572e-07],\n",
              "       [3.10118448e-05, 3.87745613e-09, 1.10710671e-05, 1.54761295e-07,\n",
              "        9.96813357e-01, 3.62368624e-08, 2.31101549e-05, 4.75010456e-04,\n",
              "        1.28016416e-06, 2.64487672e-03],\n",
              "       [8.39977776e-09, 9.99115109e-01, 1.25733686e-06, 3.08389986e-07,\n",
              "        1.15026778e-05, 1.63613958e-08, 2.16602842e-08, 8.65298847e-04,\n",
              "        6.34961361e-06, 1.00124815e-07],\n",
              "       [4.38522774e-10, 1.17518482e-06, 1.57599853e-08, 2.26943143e-06,\n",
              "        9.99719620e-01, 5.05134449e-06, 3.65447733e-07, 2.94221845e-05,\n",
              "        2.02958094e-04, 3.91757239e-05],\n",
              "       [4.68230297e-07, 1.71971969e-05, 1.72378961e-04, 2.52523413e-03,\n",
              "        6.90755481e-03, 2.38270513e-04, 3.96075617e-10, 1.18930021e-03,\n",
              "        1.94529901e-04, 9.88755047e-01],\n",
              "       [1.71753982e-06, 3.28448735e-09, 9.31523507e-04, 5.11864414e-07,\n",
              "        5.61169581e-04, 2.79701222e-02, 9.70134437e-01, 7.73340787e-08,\n",
              "        3.35373887e-04, 6.50290240e-05],\n",
              "       [9.80276485e-11, 8.02354239e-10, 7.47367029e-11, 1.72176951e-05,\n",
              "        2.28594579e-02, 5.21527599e-10, 8.70368534e-12, 1.90644953e-02,\n",
              "        1.18411292e-04, 9.57940459e-01]], dtype=float32)>"
            ]
          },
          "metadata": {},
          "execution_count": 12
        }
      ]
    }
  ]
}